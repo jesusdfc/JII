{
  "nbformat": 4,
  "nbformat_minor": 0,
  "metadata": {
    "colab": {
      "provenance": []
    },
    "kernelspec": {
      "name": "python3",
      "display_name": "Python 3"
    },
    "language_info": {
      "name": "python"
    }
  },
  "cells": [
    {
      "cell_type": "markdown",
      "source": [
        "**Example 1:**\n",
        "We will use K-means to perform color segmentation on an image."
      ],
      "metadata": {
        "id": "UYDJpjiMr9HA"
      }
    },
    {
      "cell_type": "code",
      "source": [
        "import matplotlib.pyplot as plt\n",
        "import PIL\n",
        "import urllib.request\n",
        "from PIL import Image\n",
        "import requests\n",
        "from io import BytesIO"
      ],
      "metadata": {
        "id": "HuWmsoYkMelc"
      },
      "execution_count": null,
      "outputs": []
    },
    {
      "cell_type": "code",
      "source": [
        "# Mount Google Drive so that we can access the picture\n",
        "# from google.colab import drive\n",
        "# drive.mount('/content/drive')"
      ],
      "metadata": {
        "id": "q5aGdwgEsQob"
      },
      "execution_count": null,
      "outputs": []
    },
    {
      "cell_type": "code",
      "source": [
        "## If you wanted to take a picture directly from the internet\n",
        "# # Retrieving the resource located at the URL\n",
        "# # and storing it in the file name a.png\n",
        "\n",
        "#introduce here your path if the img is in google drive\n",
        "path_googledrive = \"/content/drive/MyDrive/{your_path}\"\n",
        "\n",
        "#introduce the url\n",
        "url = \"https://github.com/jesusdfc/JII/raw/main/mandrill-small.tiff\"\n",
        "path_url = BytesIO(requests.get(url).content)\n",
        "\n",
        "#select your mode (path_url or path_googledrive)\n",
        "path = path_url\n",
        "\n",
        "# Opening the image and displaying it (to confirm its presence)\n",
        "img = Image.open(path)\n",
        "plt.imshow(img)"
      ],
      "metadata": {
        "id": "NTyZsOmS-b2u"
      },
      "execution_count": null,
      "outputs": []
    },
    {
      "cell_type": "code",
      "source": [
        "# Let's check its size\n",
        "import numpy as np\n",
        "rgb_pixels_big = np.array(img)\n",
        "rgb_pixels_big.shape"
      ],
      "metadata": {
        "id": "eQQwCqweuIOm"
      },
      "execution_count": null,
      "outputs": []
    },
    {
      "cell_type": "code",
      "source": [
        "width = rgb_pixels_big.shape[0]\n",
        "height = rgb_pixels_big.shape[1]\n",
        "print(width)\n",
        "print(height)"
      ],
      "metadata": {
        "id": "gtGwJv5sPnFE"
      },
      "execution_count": null,
      "outputs": []
    },
    {
      "cell_type": "markdown",
      "source": [
        "Image of 128 x 128 pixels, with each pixel having 3 channels (R, G, B)"
      ],
      "metadata": {
        "id": "S1diXLSSjShG"
      }
    },
    {
      "cell_type": "code",
      "source": [
        "# Let's reshape the image to a vector of pixels (ponemos la imagen en un vector)\n",
        "img_vector = np.array(img)\n",
        "img_vector = img_vector.reshape((width*height, 3))\n",
        "img_vector.shape"
      ],
      "metadata": {
        "id": "39u72XMJtu7t"
      },
      "execution_count": null,
      "outputs": []
    },
    {
      "cell_type": "code",
      "source": [
        "# We will now apply Kmeans with K=16 to cluster similar pixels together\n",
        "from sklearn.cluster import KMeans\n",
        "k = 16\n",
        "kmeans = KMeans(n_clusters=k)\n",
        "\n",
        "# Cluster assignmet for each pixel is stored in vector 'y_pred'\n",
        "y_pred = kmeans.fit_predict(img_vector)\n"
      ],
      "metadata": {
        "id": "8JNrT8tuu6Q6"
      },
      "execution_count": null,
      "outputs": []
    },
    {
      "cell_type": "code",
      "source": [
        "# y_pred contains the cluster assignment to each pixel (it should range from 0 to 15)\n",
        "y_pred"
      ],
      "metadata": {
        "id": "0S4SP_AJzyQP"
      },
      "execution_count": null,
      "outputs": []
    },
    {
      "cell_type": "code",
      "source": [
        "# We can check how many pixels are assigned to each cluster\n",
        "np.unique(y_pred, return_counts=True)"
      ],
      "metadata": {
        "id": "_ifspTPWkaCj"
      },
      "execution_count": null,
      "outputs": []
    },
    {
      "cell_type": "code",
      "source": [
        "# Let's check the centroids (representative) for each cluster\n",
        "# The clsuter representative is the average of all pixels assigned to that cluster,\n",
        "# so it can be viewed as the \"average pixel\" (it should have 3 values for the R, G, B channles)\n",
        "kmeans.cluster_centers_"
      ],
      "metadata": {
        "id": "Slm_fCpl0fzi"
      },
      "execution_count": null,
      "outputs": []
    },
    {
      "cell_type": "code",
      "source": [
        "# Let's plot the centroids to understand better how the clusters look like\n",
        "tmp = kmeans.cluster_centers_.reshape(16,1,3)\n",
        "plt.imshow(np.uint8(tmp))"
      ],
      "metadata": {
        "id": "RmFNcvKw0tl2"
      },
      "execution_count": null,
      "outputs": []
    },
    {
      "cell_type": "code",
      "source": [
        "tmp.shape"
      ],
      "metadata": {
        "id": "fcfnwnqXpVyr"
      },
      "execution_count": null,
      "outputs": []
    },
    {
      "cell_type": "code",
      "source": [
        "# Let's plot some of the pixels assigned to a specific cluster\n",
        "# cluster = 0\n",
        "# tmp = np.unique(y_pred, return_counts=True)\n",
        "# num_pixels_assigned_to_cluster = tmp[1][cluster]\n",
        "# num_pixels_assigned_to_cluster"
      ],
      "metadata": {
        "id": "2la_6-PMmCNV"
      },
      "execution_count": null,
      "outputs": []
    },
    {
      "cell_type": "code",
      "source": [
        "cluster = 1\n",
        "pixels_in_cluster = img_vector[y_pred == cluster][0:100]\n",
        "tmp1 = pixels_in_cluster.reshape(10, 10, 3)\n",
        "plt.imshow(np.uint8(tmp1))\n"
      ],
      "metadata": {
        "id": "QYe8vfPamu4G"
      },
      "execution_count": null,
      "outputs": []
    },
    {
      "cell_type": "code",
      "source": [
        "pixels_in_cluster[0:400].shape"
      ],
      "metadata": {
        "id": "_H7oGWTuu3pz"
      },
      "execution_count": null,
      "outputs": []
    },
    {
      "cell_type": "code",
      "source": [
        "# Now we need to substitute the pixel in the original image by the centroid of the cluster they are assigned to\n",
        "new_image_vector = kmeans.cluster_centers_[y_pred]\n",
        "new_image_vector.shape"
      ],
      "metadata": {
        "id": "U-0-dZ5V2S0e"
      },
      "execution_count": null,
      "outputs": []
    },
    {
      "cell_type": "code",
      "source": [
        "# Let's check the pixel value (R,G,B) of the first pixel\n",
        "new_image_vector[0]"
      ],
      "metadata": {
        "id": "7epM0vBW34F3"
      },
      "execution_count": null,
      "outputs": []
    },
    {
      "cell_type": "markdown",
      "source": [
        "Does it make sense?"
      ],
      "metadata": {
        "id": "GJh-W1_VSpiR"
      }
    },
    {
      "cell_type": "code",
      "source": [
        "# Let's chec the cluster assignment of teh first pixel\n",
        "y_pred[0]"
      ],
      "metadata": {
        "id": "wqe4dU6QSfBs"
      },
      "execution_count": null,
      "outputs": []
    },
    {
      "cell_type": "code",
      "source": [
        "# The new pixel should have values equal to the centroid of that cluster\n",
        "kmeans.cluster_centers_[10]"
      ],
      "metadata": {
        "id": "FCiGOP39ShpE"
      },
      "execution_count": null,
      "outputs": []
    },
    {
      "cell_type": "code",
      "source": [
        "# Reshape back to (128,128,3) to plot it\n",
        "new_image = new_image_vector.reshape(width,height,3)\n",
        "plt.imshow(np.uint8(new_image))"
      ],
      "metadata": {
        "id": "N4fnrIQu2wLp"
      },
      "execution_count": null,
      "outputs": []
    },
    {
      "cell_type": "code",
      "source": [
        "# Let's see how the reconstruction changes for different values of K\n",
        "knumber = [5, 10, 16, 32, 64, 128]\n",
        "f, axarr = plt.subplots(2,3)\n",
        "row = 0\n",
        "col = 0\n",
        "for k in knumber:\n",
        "  kmeans = KMeans(n_clusters=k)\n",
        "  y_pred = kmeans.fit_predict(img_vector)\n",
        "  new_image_vector = kmeans.cluster_centers_[y_pred]\n",
        "  new_image = new_image_vector.reshape(128,128,3)\n",
        "  axarr[row,col].imshow(np.uint8(new_image))\n",
        "  axarr[row,col].set_title(f\"K=%d\" % k)\n",
        "  col += 1\n",
        "  if col == 3:\n",
        "    row = 1\n",
        "    col = 0"
      ],
      "metadata": {
        "id": "My4G6Lq64_LR"
      },
      "execution_count": null,
      "outputs": []
    }
  ]
}